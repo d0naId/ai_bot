{
 "cells": [
  {
   "cell_type": "code",
   "execution_count": 1,
   "metadata": {
    "collapsed": true
   },
   "outputs": [],
   "source": [
    "# -*- coding: utf-8 -*-\n",
    "import sqlite3\n",
    "import pandas as pd\n",
    "import numpy as np\n",
    "import shelve"
   ]
  },
  {
   "cell_type": "code",
   "execution_count": 2,
   "metadata": {
    "collapsed": true,
    "scrolled": true
   },
   "outputs": [],
   "source": [
    "class SQLighter:\n",
    "    def __init__(self, database):\n",
    "        self.connection = sqlite3.connect(database)\n",
    "        self.cursor = self.connection.cursor()\n",
    "        \n",
    "        # поля для основной таблички events\n",
    "        self.fields = [['date', 'datetime'],['name', 'text'], ['descr', 'text'], ['max_memb_count', 'integer']]\n",
    "        # поля для каждой из табличек\n",
    "        self.fields_event = [['user_id', 'text'], ['status','text']]\n",
    "    def create_table(self, name, fiels):\n",
    "        self.cursor.execute('create table {0} ({1})'.format(name, ', '.join([' '.join(t) for t in fiels])))\n",
    "        \n",
    "    def insert_into_table(self, name_of_table, columns, values):\n",
    "        self.cursor.execute('INSERT INTO {0} {1} VALUES {2}'.format(name_of_table,\n",
    "                                                                      columns,\n",
    "                                                                      values))\n",
    "        self.connection.commit()\n",
    "    def create_event(self, event_object):\n",
    "        # Для каждого нового события создается новая табличка что бы записывать участников\n",
    "        self.create_table(event_object['name'], [['user_id', 'text'], ['status','text']])\n",
    "        # Для каждого события в табличку events добавляется строка\n",
    "        self.insert_into_table('events', \n",
    "                               columns = tuple(pd.Series(event_object).dropna().index), \n",
    "                               values = tuple(pd.Series(event_object).dropna().values))\n",
    "    def add_user(self, user_id): # метод, который добавляет пользователя в табличку users\n",
    "        self.insert_into_table(name_of_table = 'users', columns=\"('user_id')\", values=user_id)\n",
    "        \n",
    "    def check_user(self, user_id): # метод, который проверяет, есть ли пользователь в табличке users\n",
    "        try:\n",
    "            t = pd.read_sql('select count(*) from users u where u.user_id = {}'.format(user_id), self.connection)\n",
    "            if t.values[0] == 1:\n",
    "                return True\n",
    "            elif t.values[0] >1:\n",
    "                return 'WTF?'\n",
    "            else:\n",
    "                return False\n",
    "        except:\n",
    "            return False\n",
    "    def check_event(self, event): # метод для проверки того, что событие есть вообще существует\n",
    "        try:\n",
    "            t = pd.read_sql('select count(*) from events u where u.user_id = {}'.format(event), self.connection)\n",
    "            if t.values[0] == 1:\n",
    "                return True\n",
    "            elif t.values[0] == 1:\n",
    "                return 'WTF?'\n",
    "            else:\n",
    "                return False\n",
    "        except:\n",
    "            return False"
   ]
  },
  {
   "cell_type": "code",
   "execution_count": 3,
   "metadata": {
    "collapsed": true
   },
   "outputs": [],
   "source": [
    "db = SQLighter('../chat_sup/aievents.db')"
   ]
  },
  {
   "cell_type": "code",
   "execution_count": 7,
   "metadata": {},
   "outputs": [
    {
     "data": {
      "text/html": [
       "<div>\n",
       "<style>\n",
       "    .dataframe thead tr:only-child th {\n",
       "        text-align: right;\n",
       "    }\n",
       "\n",
       "    .dataframe thead th {\n",
       "        text-align: left;\n",
       "    }\n",
       "\n",
       "    .dataframe tbody tr th {\n",
       "        vertical-align: top;\n",
       "    }\n",
       "</style>\n",
       "<table border=\"1\" class=\"dataframe\">\n",
       "  <thead>\n",
       "    <tr style=\"text-align: right;\">\n",
       "      <th></th>\n",
       "      <th>date</th>\n",
       "      <th>name</th>\n",
       "      <th>descr</th>\n",
       "      <th>max_memb_count</th>\n",
       "    </tr>\n",
       "  </thead>\n",
       "  <tbody>\n",
       "    <tr>\n",
       "      <th>0</th>\n",
       "      <td>21.02.2009</td>\n",
       "      <td>new_event</td>\n",
       "      <td>None</td>\n",
       "      <td>9</td>\n",
       "    </tr>\n",
       "    <tr>\n",
       "      <th>1</th>\n",
       "      <td>21.05.2009</td>\n",
       "      <td>new_event_1</td>\n",
       "      <td>None</td>\n",
       "      <td>20</td>\n",
       "    </tr>\n",
       "    <tr>\n",
       "      <th>2</th>\n",
       "      <td>15.03.2009</td>\n",
       "      <td>new_event_2</td>\n",
       "      <td>very interesting</td>\n",
       "      <td>9</td>\n",
       "    </tr>\n",
       "  </tbody>\n",
       "</table>\n",
       "</div>"
      ],
      "text/plain": [
       "         date         name             descr  max_memb_count\n",
       "0  21.02.2009    new_event              None               9\n",
       "1  21.05.2009  new_event_1              None              20\n",
       "2  15.03.2009  new_event_2  very interesting               9"
      ]
     },
     "execution_count": 7,
     "metadata": {},
     "output_type": "execute_result"
    }
   ],
   "source": [
    "pd.read_sql('select * from events', db.connection)"
   ]
  },
  {
   "cell_type": "code",
   "execution_count": 6,
   "metadata": {
    "collapsed": true
   },
   "outputs": [],
   "source": [
    "# этот словарь заполняет менеджер\n",
    "event_object_2 = {\n",
    "    'date':'15.03.2009', 'name':'new_event_2', 'descr':'very interesting', 'max_memb_count':9\n",
    "}\n",
    "# тест создания нового события\n",
    "db.create_event(event_object_2)"
   ]
  },
  {
   "cell_type": "code",
   "execution_count": null,
   "metadata": {
    "collapsed": true
   },
   "outputs": [],
   "source": [
    "# этот словарь заполняет менеджер\n",
    "event_object_1 = {\n",
    "    'date':'21.05.2009', 'name':'new_event_1', 'descr':None, 'max_memb_count':20\n",
    "}\n",
    "# тест создания нового события\n",
    "db.create_event(event_object_1)"
   ]
  },
  {
   "cell_type": "code",
   "execution_count": null,
   "metadata": {
    "collapsed": true
   },
   "outputs": [],
   "source": []
  },
  {
   "cell_type": "code",
   "execution_count": null,
   "metadata": {
    "collapsed": true
   },
   "outputs": [],
   "source": [
    "# тест создания нового пользователя\n",
    "db.add_user('(\\''+'1234'+'\\')')"
   ]
  },
  {
   "cell_type": "code",
   "execution_count": null,
   "metadata": {
    "collapsed": true
   },
   "outputs": [],
   "source": [
    "# создаю основную табличку events\n",
    "db.create_table('events', db.fields)\n",
    "\n",
    "# создаю основную табличку users\n",
    "db.create_table('users', [['user_id', 'text'],['birth_date', 'datetime'],['sex','BLOB'],['is_moderator','BLOB']])"
   ]
  },
  {
   "cell_type": "code",
   "execution_count": null,
   "metadata": {
    "collapsed": true
   },
   "outputs": [],
   "source": []
  },
  {
   "cell_type": "code",
   "execution_count": null,
   "metadata": {
    "collapsed": true
   },
   "outputs": [],
   "source": []
  }
 ],
 "metadata": {
  "kernelspec": {
   "display_name": "Python 3",
   "language": "python",
   "name": "python3"
  },
  "language_info": {
   "codemirror_mode": {
    "name": "ipython",
    "version": 3
   },
   "file_extension": ".py",
   "mimetype": "text/x-python",
   "name": "python",
   "nbconvert_exporter": "python",
   "pygments_lexer": "ipython3",
   "version": "3.6.3"
  }
 },
 "nbformat": 4,
 "nbformat_minor": 2
}
