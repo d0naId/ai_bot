{
 "cells": [
  {
   "cell_type": "code",
   "execution_count": 1,
   "metadata": {
    "collapsed": true
   },
   "outputs": [],
   "source": [
    "import sys\n",
    "sys.path.append(\"/home/ubuntu/ai_community/chat_sup\")\n",
    "import config\n",
    "import telebot\n",
    "from telebot import types\n",
    "import pandas as pd\n",
    "import numpy as np\n",
    "import time\n",
    "from Sqlite_bot import SQLighter\n",
    "import datetime\n",
    "from pytz import timezone\n",
    "import shelve"
   ]
  },
  {
   "cell_type": "code",
   "execution_count": 2,
   "metadata": {
    "collapsed": true
   },
   "outputs": [],
   "source": [
    "bot = telebot.TeleBot(config.token) # объект чат бота\n",
    "db = SQLighter(config.db_path) # объект через который проходит общение с БД"
   ]
  },
  {
   "cell_type": "code",
   "execution_count": 3,
   "metadata": {
    "collapsed": true,
    "scrolled": true
   },
   "outputs": [],
   "source": [
    "@bot.message_handler(commands=['start'])\n",
    "def start(message):\n",
    "    db = SQLighter(config.db_path)\n",
    "    if db.check_user(message.from_user.id)==False:\n",
    "        db.add_user(\"('\"+str(message.from_user.id)+\"')\")\n",
    "        for t in zip(['first_name', 'last_name', 'username'],\n",
    "                     [message.from_user.first_name, message.from_user.last_name, message.from_user.username]):\n",
    "            today = datetime.datetime.now(timezone('Europe/Moscow'))\n",
    "            db.insert_into_table(name_of_table = 'anketa', \n",
    "                                 columns = ('user_id','anketa_field','value','value_date'), \n",
    "                                 values = (message.from_user.id, t[0], t[1],today.isoformat()))\n",
    "    bot.send_message(message.chat.id,'Добро пожаловать в ai comunity!\\n/events - \\\n",
    "    узнать о грядущих мероприятиях\\n/form - заполнить анкету участника\\n/my_user_id - узнать свой ID в базе')"
   ]
  },
  {
   "cell_type": "code",
   "execution_count": 4,
   "metadata": {},
   "outputs": [],
   "source": [
    "@bot.message_handler(commands=['break'])\n",
    "def brake(message):\n",
    "    try:\n",
    "        with shelve.open(config.action_shelve) as storage:\n",
    "                del storage[str(message.from_user.id)]\n",
    "        bot.send_message(message.chat.id,'на всякий случай дублирую все доступные тебе опции:\\n\\\n",
    "        form - заполнить анкету участника\\n/my_user_id - узнать свой ID в базе')\n",
    "    except:\n",
    "        bot.send_message(message.chat.id,'на всякий случай дублирую все доступные тебе опции:\\n\\\n",
    "        form - заполнить анкету участника\\n/my_user_id - узнать свой ID в базе')        "
   ]
  },
  {
   "cell_type": "code",
   "execution_count": 5,
   "metadata": {
    "collapsed": true
   },
   "outputs": [],
   "source": [
    "# Вспомогательные сущности для анкетирования\n",
    "quetions_n = {'name':1,\n",
    "              'surname':2,\n",
    "              'edu':3,\n",
    "              'work':4,\n",
    "              'position':5,\n",
    "              'phone':6,\n",
    "              'email':7}\n",
    "\n",
    "quetions = {'name':'Отлично! Назови, пожалуйста, свое имя...',\n",
    "'surname':'Я в экстазе! Теперь напиши, пожалуйста, свою фамилию...',\n",
    "'edu':'Раз уж мы так разоткровенничили, то где ты учился?',\n",
    "'work':'Молодец! А где работаешь?',\n",
    "'position':'Какая у тебя должность?',\n",
    "           'phone':'Напиши, пожалуйста, свой номер телефона, что бы мы могли с тобой связаться',\n",
    "           'email':'И почту, что бы не потеряться, когда telegram окончательно заблокируют'}"
   ]
  },
  {
   "cell_type": "code",
   "execution_count": 6,
   "metadata": {
    "collapsed": true
   },
   "outputs": [],
   "source": [
    "def check_shelve(user_id):\n",
    "    try:\n",
    "        return shelve.open(config.action_shelve)[str(user_id)]\n",
    "    except:\n",
    "        return None"
   ]
  },
  {
   "cell_type": "code",
   "execution_count": 7,
   "metadata": {
    "collapsed": true
   },
   "outputs": [],
   "source": [
    "@bot.message_handler(commands=['form'])\n",
    "def form(message):\n",
    "    with shelve.open(config.action_shelve) as storage:\n",
    "        storage[str(message.from_user.id)] = list(quetions_n.keys())[0]\n",
    "        bot.send_message(message.chat.id,quetions[storage[str(message.from_user.id)]])"
   ]
  },
  {
   "cell_type": "code",
   "execution_count": 8,
   "metadata": {
    "collapsed": true
   },
   "outputs": [],
   "source": [
    "@bot.message_handler(content_types=['text'], \n",
    "                     func =lambda message: check_shelve(message.from_user.id) in \n",
    "                     quetions_n.keys())\n",
    "def form_from_text(message):\n",
    "    with shelve.open(config.action_shelve) as storage:\n",
    "        if storage[str(message.from_user.id)]!= list(quetions.keys())[-1]:\n",
    "            db = SQLighter(config.db_path)\n",
    "            today = datetime.datetime.now(timezone('Europe/Moscow'))\n",
    "            db.insert_into_table(name_of_table = 'anketa', \n",
    "                                 columns = ('user_id','anketa_field','value','value_date'), \n",
    "                                 values = (message.from_user.id, storage[str(message.from_user.id)], \n",
    "                                           message.text,today.isoformat()))\n",
    "            storage[str(message.from_user.id)] = list(quetions_n.keys())\\\n",
    "            [quetions_n[storage[str(message.from_user.id)]]]\n",
    "            bot.send_message(message.chat.id,quetions[storage[str(message.from_user.id)]])             \n",
    "        else:\n",
    "            del storage[str(message.from_user.id)]\n",
    "            bot.send_message(message.chat.id,'Спасибо, закончили упражнение')"
   ]
  },
  {
   "cell_type": "code",
   "execution_count": 9,
   "metadata": {
    "collapsed": true
   },
   "outputs": [],
   "source": [
    "@bot.message_handler(commands=['create_new_event'], \n",
    "                     func= lambda message:SQLighter(config.db_path).check_moderator(message.from_user.id))\n",
    "def create_new_event(message):\n",
    "    with shelve.open(config.action_shelve) as storage:\n",
    "        storage[str(message.from_user.id)] = 'new_event'\n",
    "    bot.send_message(message.chat.id,'в следующем сообщении введи описание события (4 поля, разделенные символом ;):\\n\\\n",
    "дата события (yyyy-mm-dd);\\nназвание события латиницей без пробелов;\\nописание события\\nмаксимальное количество участников')"
   ]
  },
  {
   "cell_type": "code",
   "execution_count": 11,
   "metadata": {
    "scrolled": true
   },
   "outputs": [],
   "source": [
    "@bot.message_handler(content_types=['text'], \n",
    "                     func =lambda message: check_shelve(str(message.from_user.id))=='new_event')\n",
    "def create_new_event_from_text(message):\n",
    "    db = SQLighter(config.db_path)\n",
    "    try:\n",
    "        db.insert_into_table(name_of_table = 'events', \n",
    "                                     columns = ('date','name','descr','max_memb_count'), \n",
    "                                     values = (message.text.split(';')[0], \n",
    "                                               message.text.split(';')[1],\n",
    "                                               message.text.split(';')[2],\n",
    "                                               message.text.split(';')[3]))\n",
    "        with shelve.open(config.action_shelve) as storage:\n",
    "            del storage[str(message.from_user.id)]\n",
    "        bot.send_message(message.chat.id,'поздравляю, ты создал новое событие! что бы сделать рассылку по всем подписчикам бота \\\n",
    "- жми /distribution и следуй инструкциям')\n",
    "    except:\n",
    "        bot.send_message(message.chat.id,'кто-то налажал, попробуй еще раз отправить описание события (4 поля, разделенные символом ;):\\n\\\n",
    "дата события (yyyy-mm-dd);\\nназвание события латиницей без пробелов;\\nописание события\\nмаксимальное количество участников\\n\\\n",
    "если ты случайно затеял активность или не понимаешь, о чем идет речь, просто шли /break')"
   ]
  },
  {
   "cell_type": "code",
   "execution_count": 12,
   "metadata": {
    "collapsed": true
   },
   "outputs": [],
   "source": [
    "#today = datetime.datetime.now(timezone('Europe/Moscow'))\n",
    "#[i[0] for i in pd.read_sql(\"select name from {0} where date>'{1}'\".format('events',today.isoformat()), db.connection).values]"
   ]
  },
  {
   "cell_type": "code",
   "execution_count": 13,
   "metadata": {
    "collapsed": true
   },
   "outputs": [],
   "source": [
    "@bot.message_handler(commands=['events'])\n",
    "def events(message):\n",
    "    keyboard = types.InlineKeyboardMarkup()\n",
    "    today = datetime.datetime.now(timezone('Europe/Moscow'))\n",
    "    db = SQLighter(config.db_path)\n",
    "    keyboard.add(*[types.InlineKeyboardButton(text=i[0], callback_data=i[0]) \n",
    "                  for i in pd.read_sql(\"select name from {0} where date>'{1}'\".format('events',\n",
    "                                                                                   today.isoformat()), \n",
    "                                       db.connection).values])\n",
    "    bot.send_message(message.chat.id,'Выбирай', reply_markup=keyboard)"
   ]
  },
  {
   "cell_type": "code",
   "execution_count": 14,
   "metadata": {
    "collapsed": true
   },
   "outputs": [],
   "source": [
    "@bot.message_handler(commands=['my_user_id'])\n",
    "def my_user_id(message):\n",
    "    bot.send_message(message.chat.id,message.from_user.id)"
   ]
  },
  {
   "cell_type": "code",
   "execution_count": 15,
   "metadata": {
    "collapsed": true
   },
   "outputs": [],
   "source": [
    "@bot.message_handler(commands=['admin'], func= lambda message:SQLighter(config.db_path).check_moderator(message.from_user.id))\n",
    "def admin(message):\n",
    "    bot.send_message(message.chat.id,'Поздравляю, ты админ, сейчас ты можешь только создать новое событие: инструкция по команде \\\n",
    "/create_new_event\\nХочешь больше функций? Пиши этому парню: @d0naId')"
   ]
  },
  {
   "cell_type": "code",
   "execution_count": 16,
   "metadata": {
    "collapsed": true
   },
   "outputs": [],
   "source": [
    "@bot.callback_query_handler(func=lambda call: SQLighter(config.db_path).check_event(call.data))\n",
    "def callback_inline(call):\n",
    "    keyboard = types.InlineKeyboardMarkup()\n",
    "    keyboard.add(types.InlineKeyboardButton(text='зарегистрироваться на событие' +call.data, \n",
    "                                            callback_data='reg_event; '+call.data))\n",
    "    db = SQLighter(config.db_path)\n",
    "    bot.edit_message_text(chat_id=call.message.chat.id, message_id=call.message.message_id,\n",
    "                              text=pd.read_sql(\"select descr from events e where e.name='{0}'\".format(call.data),\n",
    "                                               db.connection).values,reply_markup=keyboard)"
   ]
  },
  {
   "cell_type": "code",
   "execution_count": 17,
   "metadata": {
    "collapsed": true
   },
   "outputs": [],
   "source": [
    "@bot.callback_query_handler(func=lambda call: call.data.split('; ')[0]=='reg_event' and\n",
    "                            SQLighter(config.db_path).check_event(call.data.split('; ')[1]))\n",
    "def reg_for_event(call):\n",
    "    db = SQLighter(config.db_path)\n",
    "    if pd.read_sql('select count(*) from {0} e where e.user_id = {1}'.format(call.data.split('; ')[1],\n",
    "                                                                             call.from_user.id), \n",
    "                   db.connection).values[0][0]==0:\n",
    "        db.reg_user_for_event(call.from_user.id,call.data.split('; ')[1])\n",
    "        bot.send_message(call.message.chat.id, 'готово! ждем тебя на {}'.format(call.data.split('; ')[1]))\n",
    "    else:\n",
    "        bot.send_message(call.message.chat.id, 'Кажется, ты уже зарегистрирован на событие!')\n",
    "        print(call.from_user)"
   ]
  },
  {
   "cell_type": "code",
   "execution_count": null,
   "metadata": {
    "scrolled": true
   },
   "outputs": [],
   "source": [
    "if __name__ == '__main__':\n",
    "    bot.polling(none_stop=True)"
   ]
  },
  {
   "cell_type": "code",
   "execution_count": null,
   "metadata": {
    "collapsed": true
   },
   "outputs": [],
   "source": []
  }
 ],
 "metadata": {
  "kernelspec": {
   "display_name": "Python 3",
   "language": "python",
   "name": "python3"
  },
  "language_info": {
   "codemirror_mode": {
    "name": "ipython",
    "version": 3
   },
   "file_extension": ".py",
   "mimetype": "text/x-python",
   "name": "python",
   "nbconvert_exporter": "python",
   "pygments_lexer": "ipython3",
   "version": "3.6.3"
  }
 },
 "nbformat": 4,
 "nbformat_minor": 2
}
