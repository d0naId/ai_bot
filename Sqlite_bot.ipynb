{
 "cells": [
  {
   "cell_type": "code",
   "execution_count": 1,
   "metadata": {
    "collapsed": true
   },
   "outputs": [],
   "source": [
    "# -*- coding: utf-8 -*-\n",
    "import sys\n",
    "sys.path.append(\"/home/ubuntu/ai_community/chat_sup\")\n",
    "import config\n",
    "\n",
    "import sqlite3\n",
    "import pandas as pd\n",
    "import numpy as np\n",
    "import shelve"
   ]
  },
  {
   "cell_type": "code",
   "execution_count": 2,
   "metadata": {
    "collapsed": true,
    "scrolled": true
   },
   "outputs": [],
   "source": [
    "class SQLighter:\n",
    "    def __init__(self, database):\n",
    "        self.connection = sqlite3.connect(database)\n",
    "        self.cursor = self.connection.cursor()\n",
    "        \n",
    "        # поля для основной таблички events\n",
    "        self.fields = [['date', 'datetime'],['name', 'text'], ['descr', 'text'], ['max_memb_count', 'integer']]\n",
    "        # поля для каждой из табличек\n",
    "        self.fields_event = [['user_id', 'text'], ['status','text']]\n",
    "    def create_table(self, name, fiels):\n",
    "        self.cursor.execute('create table {0} ({1})'.format(name, ', '.join([' '.join(t) for t in fiels])))\n",
    "        \n",
    "    def insert_into_table(self, name_of_table, columns, values):\n",
    "        self.cursor.execute('INSERT INTO {0} {1} VALUES {2}'.format(name_of_table,\n",
    "                                                                      columns,\n",
    "                                                                      values))\n",
    "        self.connection.commit()\n",
    "    def create_event(self, event_object):\n",
    "        # Для каждого нового события создается новая табличка что бы записывать участников\n",
    "        self.create_table(event_object['name'], [['user_id', 'text'], ['status','text']])\n",
    "        # Для каждого события в табличку events добавляется строка\n",
    "        self.insert_into_table('events', \n",
    "                               columns = tuple(pd.Series(event_object).dropna().index), \n",
    "                               values = tuple(pd.Series(event_object).dropna().values))\n",
    "    def add_user(self, user_id): # метод, который добавляет пользователя в табличку users\n",
    "        self.insert_into_table(name_of_table = 'users', columns=\"('user_id')\", values=user_id)\n",
    "        \n",
    "    def check_user(self, user_id): # метод, который проверяет, есть ли пользователь в табличке users\n",
    "        try:\n",
    "            t = pd.read_sql('select count(*) from users u where u.user_id = {}'.format(user_id), self.connection)\n",
    "            if t.values[0][0] == 1:\n",
    "                return True\n",
    "            elif t.values[0][0] >1:\n",
    "                return 'WTF?'\n",
    "            else:\n",
    "                return False\n",
    "        except:\n",
    "            return False\n",
    "    def check_event(self, event): # метод для проверки того, что событие есть вообще существует\n",
    "        try:\n",
    "            t = pd.read_sql(\"select count(*) from events e where e.name = '{}'\".format(event), self.connection)\n",
    "            if t.values[0][0] == 1:\n",
    "                return True\n",
    "            elif t.values[0][0] == 1:\n",
    "                return 'WTF?'\n",
    "            else:\n",
    "                return False\n",
    "        except:\n",
    "            return False\n",
    "    def reg_user_for_event(self, user, event):\n",
    "        self.insert_into_table(event, columns=('user_id', 'status'), values=(user, 'first_reg'))\n",
    "    def check_moderator(self, user_id):\n",
    "        return(pd.read_sql('select is_moderator from {0} where user_id = {1}'.format('users', user_id), \n",
    "                           self.connection).values[0][0])"
   ]
  },
  {
   "cell_type": "code",
   "execution_count": 3,
   "metadata": {
    "collapsed": true
   },
   "outputs": [],
   "source": [
    "db = SQLighter('../chat_sup/aievents.db')"
   ]
  },
  {
   "cell_type": "code",
   "execution_count": 4,
   "metadata": {},
   "outputs": [
    {
     "data": {
      "text/html": [
       "<div>\n",
       "<style>\n",
       "    .dataframe thead tr:only-child th {\n",
       "        text-align: right;\n",
       "    }\n",
       "\n",
       "    .dataframe thead th {\n",
       "        text-align: left;\n",
       "    }\n",
       "\n",
       "    .dataframe tbody tr th {\n",
       "        vertical-align: top;\n",
       "    }\n",
       "</style>\n",
       "<table border=\"1\" class=\"dataframe\">\n",
       "  <thead>\n",
       "    <tr style=\"text-align: right;\">\n",
       "      <th></th>\n",
       "      <th>date</th>\n",
       "      <th>name</th>\n",
       "      <th>descr</th>\n",
       "      <th>max_memb_count</th>\n",
       "    </tr>\n",
       "  </thead>\n",
       "  <tbody>\n",
       "    <tr>\n",
       "      <th>0</th>\n",
       "      <td>2009-05-03</td>\n",
       "      <td>new_event_1</td>\n",
       "      <td>Not so interesting but u should go</td>\n",
       "      <td>20</td>\n",
       "    </tr>\n",
       "    <tr>\n",
       "      <th>1</th>\n",
       "      <td>2009-03-15</td>\n",
       "      <td>new_event_2</td>\n",
       "      <td>very interesting</td>\n",
       "      <td>9</td>\n",
       "    </tr>\n",
       "    <tr>\n",
       "      <th>2</th>\n",
       "      <td>2018-05-15</td>\n",
       "      <td>new_event_3</td>\n",
       "      <td>Big data so big</td>\n",
       "      <td>9</td>\n",
       "    </tr>\n",
       "    <tr>\n",
       "      <th>3</th>\n",
       "      <td>2018-10-01</td>\n",
       "      <td>new_event_4</td>\n",
       "      <td>do u have some... data?</td>\n",
       "      <td>34</td>\n",
       "    </tr>\n",
       "    <tr>\n",
       "      <th>4</th>\n",
       "      <td>2018-09-01</td>\n",
       "      <td>first_september</td>\n",
       "      <td>все дети идут в школу, почему бы тебе тоже не...</td>\n",
       "      <td>100</td>\n",
       "    </tr>\n",
       "  </tbody>\n",
       "</table>\n",
       "</div>"
      ],
      "text/plain": [
       "         date              name  \\\n",
       "0  2009-05-03       new_event_1   \n",
       "1  2009-03-15       new_event_2   \n",
       "2  2018-05-15       new_event_3   \n",
       "3  2018-10-01       new_event_4   \n",
       "4  2018-09-01   first_september   \n",
       "\n",
       "                                               descr  max_memb_count  \n",
       "0                 Not so interesting but u should go              20  \n",
       "1                                   very interesting               9  \n",
       "2                                    Big data so big               9  \n",
       "3                            do u have some... data?              34  \n",
       "4   все дети идут в школу, почему бы тебе тоже не...             100  "
      ]
     },
     "execution_count": 4,
     "metadata": {},
     "output_type": "execute_result"
    }
   ],
   "source": [
    "pd.read_sql('select * from {0} '.format('events', ), db.connection)"
   ]
  },
  {
   "cell_type": "code",
   "execution_count": 9,
   "metadata": {},
   "outputs": [
    {
     "data": {
      "text/html": [
       "<div>\n",
       "<style>\n",
       "    .dataframe thead tr:only-child th {\n",
       "        text-align: right;\n",
       "    }\n",
       "\n",
       "    .dataframe thead th {\n",
       "        text-align: left;\n",
       "    }\n",
       "\n",
       "    .dataframe tbody tr th {\n",
       "        vertical-align: top;\n",
       "    }\n",
       "</style>\n",
       "<table border=\"1\" class=\"dataframe\">\n",
       "  <thead>\n",
       "    <tr style=\"text-align: right;\">\n",
       "      <th></th>\n",
       "      <th>user_id</th>\n",
       "      <th>birth_date</th>\n",
       "      <th>sex</th>\n",
       "      <th>is_moderator</th>\n",
       "    </tr>\n",
       "  </thead>\n",
       "  <tbody>\n",
       "    <tr>\n",
       "      <th>0</th>\n",
       "      <td>354460030</td>\n",
       "      <td>None</td>\n",
       "      <td>None</td>\n",
       "      <td>True</td>\n",
       "    </tr>\n",
       "    <tr>\n",
       "      <th>1</th>\n",
       "      <td>959120</td>\n",
       "      <td>None</td>\n",
       "      <td>None</td>\n",
       "      <td>True</td>\n",
       "    </tr>\n",
       "  </tbody>\n",
       "</table>\n",
       "</div>"
      ],
      "text/plain": [
       "     user_id birth_date   sex is_moderator\n",
       "0  354460030       None  None         True\n",
       "1     959120       None  None         True"
      ]
     },
     "execution_count": 9,
     "metadata": {},
     "output_type": "execute_result"
    }
   ],
   "source": [
    "pd.read_sql('select * from {0} '.format('users', ), db.connection)"
   ]
  },
  {
   "cell_type": "code",
   "execution_count": 5,
   "metadata": {
    "collapsed": true
   },
   "outputs": [],
   "source": [
    "pd.read_sql('select is_moderator from {0} where user_id = {1}'.format('users', 354460030), db.connection).values[0][0]"
   ]
  },
  {
   "cell_type": "code",
   "execution_count": 6,
   "metadata": {
    "scrolled": true
   },
   "outputs": [
    {
     "data": {
      "text/html": [
       "<div>\n",
       "<style>\n",
       "    .dataframe thead tr:only-child th {\n",
       "        text-align: right;\n",
       "    }\n",
       "\n",
       "    .dataframe thead th {\n",
       "        text-align: left;\n",
       "    }\n",
       "\n",
       "    .dataframe tbody tr th {\n",
       "        vertical-align: top;\n",
       "    }\n",
       "</style>\n",
       "<table border=\"1\" class=\"dataframe\">\n",
       "  <thead>\n",
       "    <tr style=\"text-align: right;\">\n",
       "      <th></th>\n",
       "      <th>user_id</th>\n",
       "      <th>anketa_field</th>\n",
       "      <th>value</th>\n",
       "      <th>value_date</th>\n",
       "    </tr>\n",
       "  </thead>\n",
       "  <tbody>\n",
       "    <tr>\n",
       "      <th>0</th>\n",
       "      <td>354460030</td>\n",
       "      <td>first_name</td>\n",
       "      <td>Yury</td>\n",
       "      <td>2018-05-05T20:46:42.309576+03:00</td>\n",
       "    </tr>\n",
       "    <tr>\n",
       "      <th>1</th>\n",
       "      <td>354460030</td>\n",
       "      <td>last_name</td>\n",
       "      <td>Simonov</td>\n",
       "      <td>2018-05-05T20:46:42.312470+03:00</td>\n",
       "    </tr>\n",
       "    <tr>\n",
       "      <th>2</th>\n",
       "      <td>354460030</td>\n",
       "      <td>username</td>\n",
       "      <td>d0naId</td>\n",
       "      <td>2018-05-05T20:46:42.315460+03:00</td>\n",
       "    </tr>\n",
       "    <tr>\n",
       "      <th>3</th>\n",
       "      <td>354460030</td>\n",
       "      <td>name</td>\n",
       "      <td>Юра</td>\n",
       "      <td>2018-05-05T21:07:31.176764+03:00</td>\n",
       "    </tr>\n",
       "    <tr>\n",
       "      <th>4</th>\n",
       "      <td>354460030</td>\n",
       "      <td>surname</td>\n",
       "      <td>Симонов</td>\n",
       "      <td>2018-05-05T21:07:36.166273+03:00</td>\n",
       "    </tr>\n",
       "    <tr>\n",
       "      <th>5</th>\n",
       "      <td>354460030</td>\n",
       "      <td>edu</td>\n",
       "      <td>МГУ</td>\n",
       "      <td>2018-05-05T21:07:39.838114+03:00</td>\n",
       "    </tr>\n",
       "    <tr>\n",
       "      <th>6</th>\n",
       "      <td>354460030</td>\n",
       "      <td>work</td>\n",
       "      <td>Альфабанк</td>\n",
       "      <td>2018-05-05T21:07:45.516780+03:00</td>\n",
       "    </tr>\n",
       "    <tr>\n",
       "      <th>7</th>\n",
       "      <td>354460030</td>\n",
       "      <td>name</td>\n",
       "      <td>Юра</td>\n",
       "      <td>2018-05-05T22:57:02.011683+03:00</td>\n",
       "    </tr>\n",
       "    <tr>\n",
       "      <th>8</th>\n",
       "      <td>354460030</td>\n",
       "      <td>surname</td>\n",
       "      <td>Симонов</td>\n",
       "      <td>2018-05-05T22:57:07.322806+03:00</td>\n",
       "    </tr>\n",
       "    <tr>\n",
       "      <th>9</th>\n",
       "      <td>354460030</td>\n",
       "      <td>edu</td>\n",
       "      <td>МГУ</td>\n",
       "      <td>2018-05-05T22:57:10.423975+03:00</td>\n",
       "    </tr>\n",
       "    <tr>\n",
       "      <th>10</th>\n",
       "      <td>354460030</td>\n",
       "      <td>work</td>\n",
       "      <td>Альфабанк</td>\n",
       "      <td>2018-05-05T22:57:18.917377+03:00</td>\n",
       "    </tr>\n",
       "    <tr>\n",
       "      <th>11</th>\n",
       "      <td>354460030</td>\n",
       "      <td>position</td>\n",
       "      <td>Datascientist</td>\n",
       "      <td>2018-05-05T22:57:28.307356+03:00</td>\n",
       "    </tr>\n",
       "    <tr>\n",
       "      <th>12</th>\n",
       "      <td>354460030</td>\n",
       "      <td>phone</td>\n",
       "      <td>89150666830</td>\n",
       "      <td>2018-05-05T22:57:37.259507+03:00</td>\n",
       "    </tr>\n",
       "    <tr>\n",
       "      <th>13</th>\n",
       "      <td>959120</td>\n",
       "      <td>first_name</td>\n",
       "      <td>Юлия</td>\n",
       "      <td>2018-05-06T08:01:11.998766+03:00</td>\n",
       "    </tr>\n",
       "    <tr>\n",
       "      <th>14</th>\n",
       "      <td>959120</td>\n",
       "      <td>last_name</td>\n",
       "      <td>К</td>\n",
       "      <td>2018-05-06T08:01:12.001672+03:00</td>\n",
       "    </tr>\n",
       "    <tr>\n",
       "      <th>15</th>\n",
       "      <td>959120</td>\n",
       "      <td>username</td>\n",
       "      <td>K_Juliya</td>\n",
       "      <td>2018-05-06T08:01:12.004782+03:00</td>\n",
       "    </tr>\n",
       "    <tr>\n",
       "      <th>16</th>\n",
       "      <td>959120</td>\n",
       "      <td>name</td>\n",
       "      <td>Ю</td>\n",
       "      <td>2018-05-06T08:01:34.332292+03:00</td>\n",
       "    </tr>\n",
       "    <tr>\n",
       "      <th>17</th>\n",
       "      <td>959120</td>\n",
       "      <td>surname</td>\n",
       "      <td>Ф</td>\n",
       "      <td>2018-05-06T08:01:41.628353+03:00</td>\n",
       "    </tr>\n",
       "    <tr>\n",
       "      <th>18</th>\n",
       "      <td>959120</td>\n",
       "      <td>edu</td>\n",
       "      <td>М</td>\n",
       "      <td>2018-05-06T08:01:52.000830+03:00</td>\n",
       "    </tr>\n",
       "    <tr>\n",
       "      <th>19</th>\n",
       "      <td>959120</td>\n",
       "      <td>work</td>\n",
       "      <td>М</td>\n",
       "      <td>2018-05-06T08:01:57.538456+03:00</td>\n",
       "    </tr>\n",
       "    <tr>\n",
       "      <th>20</th>\n",
       "      <td>959120</td>\n",
       "      <td>position</td>\n",
       "      <td>М</td>\n",
       "      <td>2018-05-06T08:02:00.492335+03:00</td>\n",
       "    </tr>\n",
       "    <tr>\n",
       "      <th>21</th>\n",
       "      <td>959120</td>\n",
       "      <td>phone</td>\n",
       "      <td>М</td>\n",
       "      <td>2018-05-06T08:02:11.557130+03:00</td>\n",
       "    </tr>\n",
       "  </tbody>\n",
       "</table>\n",
       "</div>"
      ],
      "text/plain": [
       "      user_id anketa_field          value                        value_date\n",
       "0   354460030   first_name           Yury  2018-05-05T20:46:42.309576+03:00\n",
       "1   354460030    last_name        Simonov  2018-05-05T20:46:42.312470+03:00\n",
       "2   354460030     username         d0naId  2018-05-05T20:46:42.315460+03:00\n",
       "3   354460030         name            Юра  2018-05-05T21:07:31.176764+03:00\n",
       "4   354460030      surname        Симонов  2018-05-05T21:07:36.166273+03:00\n",
       "5   354460030          edu            МГУ  2018-05-05T21:07:39.838114+03:00\n",
       "6   354460030         work      Альфабанк  2018-05-05T21:07:45.516780+03:00\n",
       "7   354460030         name            Юра  2018-05-05T22:57:02.011683+03:00\n",
       "8   354460030      surname        Симонов  2018-05-05T22:57:07.322806+03:00\n",
       "9   354460030          edu            МГУ  2018-05-05T22:57:10.423975+03:00\n",
       "10  354460030         work      Альфабанк  2018-05-05T22:57:18.917377+03:00\n",
       "11  354460030     position  Datascientist  2018-05-05T22:57:28.307356+03:00\n",
       "12  354460030        phone    89150666830  2018-05-05T22:57:37.259507+03:00\n",
       "13     959120   first_name           Юлия  2018-05-06T08:01:11.998766+03:00\n",
       "14     959120    last_name              К  2018-05-06T08:01:12.001672+03:00\n",
       "15     959120     username       K_Juliya  2018-05-06T08:01:12.004782+03:00\n",
       "16     959120         name              Ю  2018-05-06T08:01:34.332292+03:00\n",
       "17     959120      surname              Ф  2018-05-06T08:01:41.628353+03:00\n",
       "18     959120          edu              М  2018-05-06T08:01:52.000830+03:00\n",
       "19     959120         work              М  2018-05-06T08:01:57.538456+03:00\n",
       "20     959120     position              М  2018-05-06T08:02:00.492335+03:00\n",
       "21     959120        phone              М  2018-05-06T08:02:11.557130+03:00"
      ]
     },
     "execution_count": 6,
     "metadata": {},
     "output_type": "execute_result"
    }
   ],
   "source": [
    "pd.read_sql('select * from {0} order by value_date'.format('anketa'), db.connection)"
   ]
  },
  {
   "cell_type": "code",
   "execution_count": 8,
   "metadata": {
    "collapsed": true
   },
   "outputs": [],
   "source": [
    "db.cursor.execute(\"UPDATE users SET is_moderator = 'True' WHERE user_id=354460030\")\n",
    "db.connection.commit()"
   ]
  },
  {
   "cell_type": "code",
   "execution_count": 14,
   "metadata": {
    "collapsed": true
   },
   "outputs": [],
   "source": [
    "db.cursor.execute(\"DELETE from events\")\n",
    "db.connection.commit()"
   ]
  },
  {
   "cell_type": "code",
   "execution_count": 19,
   "metadata": {
    "collapsed": true,
    "scrolled": true
   },
   "outputs": [],
   "source": [
    "# этот словарь заполняет менеджер\n",
    "event_object_1 = {\n",
    "    'date':'2009-05-03', 'name':'new_event_1', 'descr':'Not so interesting but u should go', 'max_memb_count':20\n",
    "}\n",
    "# тест создания нового события\n",
    "db.create_event(event_object_1)\n",
    "\n",
    "# этот словарь заполняет менеджер\n",
    "event_object_2 = {\n",
    "    'date':'2009-03-15', 'name':'new_event_2', 'descr':'very interesting', 'max_memb_count':9\n",
    "}\n",
    "# тест создания нового события\n",
    "db.create_event(event_object_2)\n",
    "\n",
    "# этот словарь заполняет менеджер\n",
    "event_object_3 = {\n",
    "    'date':'2018-05-15', 'name':'new_event_3', 'descr':'Big data so big', 'max_memb_count':9\n",
    "}\n",
    "# тест создания нового события\n",
    "db.create_event(event_object_3)\n",
    "\n",
    "# этот словарь заполняет менеджер\n",
    "event_object_4 = {\n",
    "    'date':'2018-10-01', 'name':'new_event_4', 'descr':'do u have some... data?', 'max_memb_count':34\n",
    "}\n",
    "# тест создания нового события\n",
    "db.create_event(event_object_4)"
   ]
  },
  {
   "cell_type": "code",
   "execution_count": 22,
   "metadata": {
    "collapsed": true
   },
   "outputs": [],
   "source": []
  },
  {
   "cell_type": "code",
   "execution_count": 8,
   "metadata": {
    "collapsed": true
   },
   "outputs": [],
   "source": [
    "# тест создания нового пользователя\n",
    "db.add_user('(\\''+'1234'+'\\')')"
   ]
  },
  {
   "cell_type": "code",
   "execution_count": 4,
   "metadata": {
    "collapsed": true
   },
   "outputs": [],
   "source": [
    "# создаю основную табличку events\n",
    "db.create_table('events', db.fields)\n",
    "\n",
    "# создаю основную табличку users\n",
    "db.create_table('users', [['user_id', 'text'],['birth_date', 'datetime'],['sex','BLOB'],['is_moderator','BLOB']])\n",
    "\n",
    "# создаю основную табличку anketa\n",
    "fields_anketa = [['user_id','text'], ['anketa_field','text'], ['value', 'text'], ['value_date', 'text']]\n",
    "db.create_table('anketa', fields_anketa)"
   ]
  },
  {
   "cell_type": "code",
   "execution_count": null,
   "metadata": {
    "collapsed": true
   },
   "outputs": [],
   "source": []
  },
  {
   "cell_type": "code",
   "execution_count": null,
   "metadata": {
    "collapsed": true
   },
   "outputs": [],
   "source": []
  },
  {
   "cell_type": "code",
   "execution_count": null,
   "metadata": {
    "collapsed": true
   },
   "outputs": [],
   "source": []
  },
  {
   "cell_type": "code",
   "execution_count": 7,
   "metadata": {
    "collapsed": true
   },
   "outputs": [],
   "source": [
    "quetions_n = {'name':1,\n",
    "'surname':2,\n",
    "'edu':3,\n",
    "'work':4,\n",
    "'position':5}\n",
    "\n",
    "quetions = {'name':'Отлично! Назови, пожалуйста, свое имя...',\n",
    "'surname':'Я в экстазе! Теперь напиши, пожалуйста, свою фамилию...',\n",
    "'edu':'Раз уж мы так разоткровенничили, то где ты учился?',\n",
    "'work':'Молодец! А где работаешь?',\n",
    "'position':'Какая у тебя должность?'}"
   ]
  },
  {
   "cell_type": "code",
   "execution_count": 9,
   "metadata": {
    "scrolled": true
   },
   "outputs": [
    {
     "data": {
      "text/plain": [
       "True"
      ]
     },
     "execution_count": 9,
     "metadata": {},
     "output_type": "execute_result"
    }
   ],
   "source": [
    "shelve.open(config.action_shelve)[str(354460030)] in quetions_n.keys()"
   ]
  },
  {
   "cell_type": "code",
   "execution_count": 11,
   "metadata": {},
   "outputs": [
    {
     "data": {
      "text/plain": [
       "dict_keys(['name', 'surname', 'edu', 'work', 'position'])"
      ]
     },
     "execution_count": 11,
     "metadata": {},
     "output_type": "execute_result"
    }
   ],
   "source": [
    "quetions_n.keys()"
   ]
  },
  {
   "cell_type": "code",
   "execution_count": 8,
   "metadata": {
    "collapsed": true
   },
   "outputs": [],
   "source": [
    "quetions_n = {'name':1,\n",
    "'surname':2,\n",
    "'edu':3,\n",
    "'work':4,\n",
    "'position':5}\n",
    "\n",
    "quetions = {'name':'Отлично! Назови, пожалуйста, свое имя...',\n",
    "'surname':'Я в экстазе! Теперь напиши, пожалуйста, свою фамилию...',\n",
    "'edu':'Раз уж мы так разоткровенничили, то где ты учился?',\n",
    "'work':'Молодец! А где работаешь?',\n",
    "'position':'Какая у тебя должность?'}"
   ]
  },
  {
   "cell_type": "code",
   "execution_count": 11,
   "metadata": {},
   "outputs": [
    {
     "data": {
      "text/plain": [
       "'work'"
      ]
     },
     "execution_count": 11,
     "metadata": {},
     "output_type": "execute_result"
    }
   ],
   "source": [
    "list(quetions_n.keys())[quetions_n[shelve.open(config.action_shelve)[str(354460030)]]]"
   ]
  },
  {
   "cell_type": "code",
   "execution_count": 10,
   "metadata": {},
   "outputs": [
    {
     "data": {
      "text/plain": [
       "'position'"
      ]
     },
     "execution_count": 10,
     "metadata": {},
     "output_type": "execute_result"
    }
   ],
   "source": [
    "list(quetions.keys())[-1]"
   ]
  },
  {
   "cell_type": "code",
   "execution_count": 12,
   "metadata": {},
   "outputs": [
    {
     "data": {
      "text/plain": [
       "True"
      ]
     },
     "execution_count": 12,
     "metadata": {},
     "output_type": "execute_result"
    }
   ],
   "source": [
    "shelve.open(config.action_shelve)[str(354460030)] in quetions_n.keys()"
   ]
  },
  {
   "cell_type": "code",
   "execution_count": null,
   "metadata": {
    "collapsed": true
   },
   "outputs": [],
   "source": []
  }
 ],
 "metadata": {
  "kernelspec": {
   "display_name": "Python 3",
   "language": "python",
   "name": "python3"
  },
  "language_info": {
   "codemirror_mode": {
    "name": "ipython",
    "version": 3
   },
   "file_extension": ".py",
   "mimetype": "text/x-python",
   "name": "python",
   "nbconvert_exporter": "python",
   "pygments_lexer": "ipython3",
   "version": "3.6.3"
  }
 },
 "nbformat": 4,
 "nbformat_minor": 2
}
